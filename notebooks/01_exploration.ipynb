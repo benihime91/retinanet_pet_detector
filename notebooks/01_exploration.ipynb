{
 "cells": [
  {
   "cell_type": "code",
   "execution_count": 39,
   "metadata": {},
   "outputs": [],
   "source": [
    "import torch\n",
    "from torchvision.ops.boxes import batched_nms\n",
    "import torch.nn.functional as F"
   ]
  },
  {
   "cell_type": "code",
   "execution_count": 50,
   "metadata": {
    "tags": []
   },
   "outputs": [
    {
     "output_type": "stream",
     "name": "stdout",
     "text": "tensor([[0.6956, 0.5182, 0.4894, 0.6956, 0.2929],\n        [0.5634, 0.3176, 0.1864, 0.4282, 0.7276],\n        [0.6162, 0.3720, 0.6613, 0.2679, 0.4449]])\n\ntensor([[ 1.,  2.,  3.,  4.],\n        [ 5.,  6.,  7.,  8.],\n        [ 9., 10., 11., 12.]])\n\ntensor([[0, 1, 2, 3, 4],\n        [0, 1, 2, 3, 4],\n        [0, 1, 2, 3, 4]])\n"
    }
   ],
   "source": [
    "num_classes = 5\n",
    "num_dets = 3\n",
    "thr = 0.05\n",
    "# Suppose its predicted that image has 3 bboxes\n",
    "scores = torch.randn((num_dets, num_classes)).float().sigmoid()\n",
    "boxes  = torch.tensor([ [1,2,3,4], [5,6,7,8], [9,10,11,12]] ).float()\n",
    "labels = torch.arange(num_classes).view(1,-1).expand_as(scores)\n",
    "\n",
    "print(scores)\n",
    "print()\n",
    "print(boxes)\n",
    "print()\n",
    "print(labels)"
   ]
  },
  {
   "cell_type": "code",
   "execution_count": 43,
   "metadata": {},
   "outputs": [
    {
     "output_type": "execute_result",
     "data": {
      "text/plain": "tensor([[0, 1, 2, 3, 4],\n        [0, 1, 2, 3, 4],\n        [0, 1, 2, 3, 4]])"
     },
     "metadata": {},
     "execution_count": 43
    }
   ],
   "source": [
    "keep_idxs = scores > thr\n",
    "pred_scores = "
   ]
  },
  {
   "cell_type": "code",
   "execution_count": 52,
   "metadata": {
    "tags": []
   },
   "outputs": [
    {
     "output_type": "stream",
     "name": "stdout",
     "text": "\ntensor([[0.6956, 0.6956, 0.5182, 0.4894, 0.2929],\n        [0.7276, 0.5634, 0.4282, 0.3176, 0.1864],\n        [0.6613, 0.6162, 0.4449, 0.3720, 0.2679]])\n\ntensor([[0, 3, 1, 2, 4],\n        [4, 0, 3, 1, 2],\n        [2, 0, 4, 1, 3]])\n"
    }
   ],
   "source": [
    "predicted_prob, topk_idxs = scores.sort(descending=True) # Sort predicitons according to values\n",
    "print()\n",
    "print(predicted_prob)\n",
    "print()\n",
    "print(topk_idxs)"
   ]
  },
  {
   "cell_type": "code",
   "execution_count": 53,
   "metadata": {
    "tags": []
   },
   "outputs": [
    {
     "output_type": "stream",
     "name": "stdout",
     "text": "tensor([[True, True, True, True, True],\n        [True, True, True, True, True],\n        [True, True, True, True, True]])\n\ntensor([0.6956, 0.6956, 0.5182, 0.4894, 0.2929, 0.7276, 0.5634, 0.4282, 0.3176,\n        0.1864, 0.6613, 0.6162, 0.4449, 0.3720, 0.2679])\n\ntensor([0, 3, 1, 2, 4, 4, 0, 3, 1, 2, 2, 0, 4, 1, 3])\n"
    }
   ],
   "source": [
    "# filter out the proposals with low confidence score\n",
    "keep_idxs = predicted_prob > thr\n",
    "predicted_prob = predicted_prob[keep_idxs]\n",
    "topk_idxs = topk_idxs[keep_idxs]\n",
    "print(keep_idxs)\n",
    "print()\n",
    "print(predicted_prob)\n",
    "print()\n",
    "print(topk_idxs)"
   ]
  },
  {
   "cell_type": "code",
   "execution_count": 54,
   "metadata": {},
   "outputs": [
    {
     "output_type": "execute_result",
     "data": {
      "text/plain": "(tensor([0, 0, 0, 0, 0, 0, 0, 0, 0, 0, 0, 0, 0, 0, 0]),\n tensor([0, 3, 1, 2, 4, 4, 0, 3, 1, 2, 2, 0, 4, 1, 3]))"
     },
     "metadata": {},
     "execution_count": 54
    }
   ],
   "source": [
    "anchor_idxs = topk_idxs // num_classes\n",
    "classes_idxs = topk_idxs % num_classes\n",
    "\n",
    "anchor_idxs, classes_idxs"
   ]
  },
  {
   "cell_type": "code",
   "execution_count": 56,
   "metadata": {},
   "outputs": [],
   "source": [
    "bb = boxes[anchor_idxs]"
   ]
  },
  {
   "cell_type": "code",
   "execution_count": 59,
   "metadata": {
    "tags": []
   },
   "outputs": [
    {
     "output_type": "execute_result",
     "data": {
      "text/plain": "tensor([[1., 2., 3., 4.],\n        [1., 2., 3., 4.],\n        [1., 2., 3., 4.],\n        [1., 2., 3., 4.],\n        [1., 2., 3., 4.],\n        [1., 2., 3., 4.],\n        [1., 2., 3., 4.],\n        [1., 2., 3., 4.],\n        [1., 2., 3., 4.],\n        [1., 2., 3., 4.],\n        [1., 2., 3., 4.],\n        [1., 2., 3., 4.],\n        [1., 2., 3., 4.],\n        [1., 2., 3., 4.],\n        [1., 2., 3., 4.]])"
     },
     "metadata": {},
     "execution_count": 59
    }
   ],
   "source": [
    "bb.reshape(-1,4)"
   ]
  },
  {
   "cell_type": "code",
   "execution_count": 60,
   "metadata": {},
   "outputs": [
    {
     "output_type": "execute_result",
     "data": {
      "text/plain": "tensor([0, 3, 1, 2, 4, 4, 0, 3, 1, 2, 2, 0, 4, 1, 3])"
     },
     "metadata": {},
     "execution_count": 60
    }
   ],
   "source": [
    "classes_idxs.reshape(-1)"
   ]
  },
  {
   "cell_type": "code",
   "execution_count": 61,
   "metadata": {},
   "outputs": [
    {
     "output_type": "execute_result",
     "data": {
      "text/plain": "(torch.Size([15]), torch.Size([15, 4]))"
     },
     "metadata": {},
     "execution_count": 61
    }
   ],
   "source": [
    "classes_idxs.shape, bb.shape"
   ]
  },
  {
   "cell_type": "code",
   "execution_count": null,
   "metadata": {},
   "outputs": [],
   "source": []
  }
 ],
 "metadata": {
  "kernelspec": {
   "display_name": "pytorch",
   "language": "python",
   "name": "pytorch"
  },
  "language_info": {
   "codemirror_mode": {
    "name": "ipython",
    "version": 3
   },
   "file_extension": ".py",
   "mimetype": "text/x-python",
   "name": "python",
   "nbconvert_exporter": "python",
   "pygments_lexer": "ipython3",
   "version": "3.7.7-final"
  }
 },
 "nbformat": 4,
 "nbformat_minor": 4
}