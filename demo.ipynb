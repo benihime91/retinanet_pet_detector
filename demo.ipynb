{
  "nbformat": 4,
  "nbformat_minor": 0,
  "metadata": {
    "colab": {
      "name": "demo.ipynb",
      "provenance": [],
      "collapsed_sections": [],
      "mount_file_id": "1nYgwrQEtws0S2xMPmaF6Jwz4SiZJqhhS",
      "authorship_tag": "ABX9TyN4Xwe8jI7TPqpr5e1P3hbT",
      "include_colab_link": true
    },
    "kernelspec": {
      "name": "python3",
      "display_name": "Python 3"
    },
    "accelerator": "GPU"
  },
  "cells": [
    {
      "cell_type": "markdown",
      "metadata": {
        "id": "view-in-github",
        "colab_type": "text"
      },
      "source": [
        "<a href=\"https://colab.research.google.com/github/benihime91/retinanet_pet_detector/blob/master/demo.ipynb\" target=\"_parent\"><img src=\"https://colab.research.google.com/assets/colab-badge.svg\" alt=\"Open In Colab\"/></a>"
      ]
    },
    {
      "cell_type": "code",
      "metadata": {
        "id": "LSu3MnNhBxdC",
        "colab_type": "code",
        "colab": {}
      },
      "source": [
        "# Ensure colab doesn't disconnect\n",
        "%%javascript\n",
        "function ClickConnect(){\n",
        "console.log(\"Working\");\n",
        "document.querySelector(\"colab-toolbar-button#connect\").click()\n",
        "}setInterval(ClickConnect,60000)"
      ],
      "execution_count": null,
      "outputs": []
    },
    {
      "cell_type": "code",
      "metadata": {
        "id": "R_YW1B_RBpP8",
        "colab_type": "code",
        "colab": {}
      },
      "source": [
        "# what GPU do we have ?\n",
        "!nvidia-smi"
      ],
      "execution_count": null,
      "outputs": []
    },
    {
      "cell_type": "markdown",
      "metadata": {
        "id": "bR2lmX5zBzpH",
        "colab_type": "text"
      },
      "source": [
        "**Setup Google-Colab:**"
      ]
    },
    {
      "cell_type": "code",
      "metadata": {
        "id": "ON65LTJRB5uW",
        "colab_type": "code",
        "colab": {}
      },
      "source": [
        "# install dependencies\n",
        "!pip install pytorch-lightning omegaconf --quiet\n",
        "!pip install git+https://github.com/albumentations-team/albumentations --quiet"
      ],
      "execution_count": null,
      "outputs": []
    },
    {
      "cell_type": "code",
      "metadata": {
        "id": "m8kZl__wB760",
        "colab_type": "code",
        "colab": {}
      },
      "source": [
        "# Run this cell to mount Google Drive\n",
        "from google.colab import drive\n",
        "drive.mount('/content/drive')"
      ],
      "execution_count": null,
      "outputs": []
    },
    {
      "cell_type": "code",
      "metadata": {
        "id": "qh267ZgEDFml",
        "colab_type": "code",
        "colab": {}
      },
      "source": [
        "# clone the github repo:\n",
        "!git clone --recurse-submodules -j8 https://github.com/benihime91/retinanet_pet_detector.git"
      ],
      "execution_count": null,
      "outputs": []
    },
    {
      "cell_type": "markdown",
      "metadata": {
        "id": "cXs6GDW9C65B",
        "colab_type": "text"
      },
      "source": [
        "**Untar the data from Google Drive and save it to VM memory :**"
      ]
    },
    {
      "cell_type": "markdown",
      "metadata": {
        "id": "SNbiZO5bCBGH",
        "colab_type": "text"
      },
      "source": [
        "- The cell below unzips the data assuming the `The Oxford-IIIT Pet Dataset` is present in `/content/drive/My Drive/Data/oxford-iiit-pet.tgz.`\n",
        "\n",
        "- If data is not downloaded download the data from [here](https://www.robots.ox.ac.uk/~vgg/data/pets) and save in it in Google Drive under `/Data/oxford-iiit-pet.tgz`."
      ]
    },
    {
      "cell_type": "code",
      "metadata": {
        "id": "2UDzTLN9B-de",
        "colab_type": "code",
        "colab": {}
      },
      "source": [
        "# unpacks the data\n",
        "!tar xf /content/drive/My\\ Drive/Data/oxford-iiit-pet.tgz -C /content/"
      ],
      "execution_count": null,
      "outputs": []
    },
    {
      "cell_type": "markdown",
      "metadata": {
        "id": "ryy-KrEWDCcp",
        "colab_type": "text"
      },
      "source": [
        "**Imports:**"
      ]
    },
    {
      "cell_type": "code",
      "metadata": {
        "id": "tuv52UCjDNG1",
        "colab_type": "code",
        "colab": {}
      },
      "source": [
        "import sys\n",
        "import os\n",
        "import warnings\n",
        "\n",
        "os.chdir(\"/content/retinanet_pet_detector\")\n",
        "warnings.filterwarnings(\"ignore\")\n",
        "%matplotlib inline\n",
        "%load_ext tensorboard"
      ],
      "execution_count": null,
      "outputs": []
    },
    {
      "cell_type": "code",
      "metadata": {
        "id": "QgZ77OBFDPN2",
        "colab_type": "code",
        "colab": {}
      },
      "source": [
        "# Standard Imports\n",
        "import numpy as np\n",
        "from omegaconf import OmegaConf, DictConfig\n",
        "import pandas as pd\n",
        "import argparse\n",
        "from PIL import Image\n",
        "\n",
        "\n",
        "from references.data_utils import _get_logger\n",
        "from references import Visualizer\n",
        "from references.utils import get_label_dict\n",
        "from train import main\n",
        "\n",
        "from google.colab import files\n",
        "\n",
        "# Set up logging\n",
        "logger = _get_logger()\n",
        "pd.set_option(\"display.max_colwidth\",None)"
      ],
      "execution_count": null,
      "outputs": []
    },
    {
      "cell_type": "markdown",
      "metadata": {
        "id": "1o9RywdIDfL3",
        "colab_type": "text"
      },
      "source": [
        "**Preprare Data:**"
      ]
    },
    {
      "cell_type": "markdown",
      "metadata": {
        "id": "ZKSK-w85Dmr9",
        "colab_type": "text"
      },
      "source": [
        "Before training we need to convert the data into a format that is compatible with the `training pipeline.` We will use `references/data_utils.py` to convert all the xml annotation files into a csv that stores all the annotations and path to the Images.\n",
        "\n",
        "The resutant csv file will be saved as `/{ouptut_dir}/data-full.csv`."
      ]
    },
    {
      "cell_type": "code",
      "metadata": {
        "id": "y7evHpgnD8Mu",
        "colab_type": "code",
        "colab": {}
      },
      "source": [
        "# Convert xml files to a csv file\n",
        "!python references/data_utils.py \\\n",
        "    --action create \\\n",
        "    --img_dir \"/content/oxford-iiit-pet/images\" \\\n",
        "    --annot_dir \"/content/oxford-iiit-pet/annotations/xmls\" \\\n",
        "    --labels \"/content/retinanet_pet_detector/data/labels.names\" \\\n",
        "    --output_dir \"/content/retinanet_pet_detector/data/\""
      ],
      "execution_count": null,
      "outputs": []
    },
    {
      "cell_type": "markdown",
      "metadata": {
        "id": "0pXHIpdLEgHj",
        "colab_type": "text"
      },
      "source": [
        "This is what our data looks like:"
      ]
    },
    {
      "cell_type": "code",
      "metadata": {
        "id": "yMU4OrEmEMBy",
        "colab_type": "code",
        "colab": {}
      },
      "source": [
        "df = pd.read_csv(\"/content/retinanet_pet_detector/data/data-full.csv\")\n",
        "df.head(5)"
      ],
      "execution_count": null,
      "outputs": []
    },
    {
      "cell_type": "code",
      "metadata": {
        "id": "qrrihtQij7tk",
        "colab_type": "code",
        "colab": {}
      },
      "source": [
        "# sanity-check\n",
        "Image.open(df.filename[100])"
      ],
      "execution_count": null,
      "outputs": []
    },
    {
      "cell_type": "markdown",
      "metadata": {
        "id": "-ge3Q62dEPeQ",
        "colab_type": "text"
      },
      "source": [
        "We will again the run the script used above but this time we will run this script to create `training`, `validation` & `test` sets from the full dataset."
      ]
    },
    {
      "cell_type": "code",
      "metadata": {
        "id": "xmoltQ-qEdjR",
        "colab_type": "code",
        "colab": {}
      },
      "source": [
        "# Create train, validaiton and test splits in the data\n",
        "!python references/data_utils.py \\\n",
        "    --action split \\\n",
        "    --csv \"/content/retinanet_pet_detector/data/data-full.csv\"\\\n",
        "    --valid_size 0.3 \\\n",
        "    --test_size 0.5 \\\n",
        "    --output_dir \"/content/retinanet_pet_detector/data/\" \\\n",
        "    --seed 123"
      ],
      "execution_count": null,
      "outputs": []
    },
    {
      "cell_type": "markdown",
      "metadata": {
        "id": "9QLMvn-9Exdr",
        "colab_type": "text"
      },
      "source": [
        "We can see that now we have 3 extra files train.csv, valid.csv & test.csv. This files correspond to the `train`,`validation` & `test` datasets respectively."
      ]
    },
    {
      "cell_type": "code",
      "metadata": {
        "id": "0fApEumuEkl2",
        "colab_type": "code",
        "colab": {}
      },
      "source": [
        "! ls \"/content/retinanet_pet_detector/data\""
      ],
      "execution_count": null,
      "outputs": []
    },
    {
      "cell_type": "code",
      "metadata": {
        "id": "dNj5LoXKF7-L",
        "colab_type": "code",
        "colab": {}
      },
      "source": [
        "# Read in the train and test dataframes\n",
        "trn_df = pd.read_csv(\"/content/retinanet_pet_detector/data/train.csv\")\n",
        "tst_df = pd.read_csv(\"/content/retinanet_pet_detector/data/test.csv\")\n",
        "val_df = pd.read_csv(\"/content/retinanet_pet_detector/data/valid.csv\")"
      ],
      "execution_count": null,
      "outputs": []
    },
    {
      "cell_type": "code",
      "metadata": {
        "id": "LTBWvNR4GHdu",
        "colab_type": "code",
        "colab": {}
      },
      "source": [
        "trn_df.head()"
      ],
      "execution_count": null,
      "outputs": []
    },
    {
      "cell_type": "code",
      "metadata": {
        "id": "QpexZRBEGNyK",
        "colab_type": "code",
        "colab": {}
      },
      "source": [
        "tst_df.head()"
      ],
      "execution_count": null,
      "outputs": []
    },
    {
      "cell_type": "code",
      "metadata": {
        "id": "run6FUqVkGH9",
        "colab_type": "code",
        "colab": {}
      },
      "source": [
        "val_df.head()"
      ],
      "execution_count": null,
      "outputs": []
    },
    {
      "cell_type": "markdown",
      "metadata": {
        "id": "rhG9J-3SGeh1",
        "colab_type": "text"
      },
      "source": [
        "**View some images from the datasets:**"
      ]
    },
    {
      "cell_type": "code",
      "metadata": {
        "id": "xtnH9Rl5Gk0K",
        "colab_type": "code",
        "colab": {}
      },
      "source": [
        "# Read in the Labes dictionary \n",
        "# and initializer the visualizer to view images with bboxes\n",
        "label_dict = get_label_dict(\"/content/retinanet_pet_detector/data/labels.names\")\n",
        "vis = Visualizer(label_dict)"
      ],
      "execution_count": null,
      "outputs": []
    },
    {
      "cell_type": "code",
      "metadata": {
        "id": "XniyvbujueKz",
        "colab_type": "code",
        "colab": {}
      },
      "source": [
        "# These are the label\n",
        "label_dict"
      ],
      "execution_count": null,
      "outputs": []
    },
    {
      "cell_type": "code",
      "metadata": {
        "id": "cOBYiTcmGwy2",
        "colab_type": "code",
        "colab": {}
      },
      "source": [
        "np.random.seed(123)\n",
        "\n",
        "def display_random_image(data):\n",
        "    \"\"\"\n",
        "    Fn to display a random using the `Visualizer`\n",
        "    from the given pandas dataframe. The bounding boxes are also\n",
        "    drawn over the image.\n",
        "\n",
        "    Args:\n",
        "     data (`pd.dataframe`): A `pandas dataframe` where filename corresponds to \n",
        "                            the image path and bbox co-ordinates are stored in \n",
        "                            `[xmin,xmax,ymin,ymax]` & class_names (`int`) are \n",
        "                            stored in `[labels]`.\n",
        "    \"\"\"\n",
        "    idx = np.random.randint(0, len(df))\n",
        "    image_id = df.filename[idx]\n",
        "    locs = df.loc[df.filename == image_id]\n",
        "    boxes = locs[['xmin','ymin','xmax','ymax']].values\n",
        "    labels = locs['labels'].values\n",
        "    vis.draw_bboxes(image_id, boxes, labels)"
      ],
      "execution_count": null,
      "outputs": []
    },
    {
      "cell_type": "code",
      "metadata": {
        "id": "SJ_SDWOQG0Rw",
        "colab_type": "code",
        "colab": {}
      },
      "source": [
        "# Display a random Image from the Train dataset\n",
        "display_random_image(data=trn_df)"
      ],
      "execution_count": null,
      "outputs": []
    },
    {
      "cell_type": "code",
      "metadata": {
        "id": "DByIafeKG4Ma",
        "colab_type": "code",
        "colab": {}
      },
      "source": [
        "# Display a random Image from the test dataset\n",
        "display_random_image(data=tst_df)"
      ],
      "execution_count": null,
      "outputs": []
    },
    {
      "cell_type": "code",
      "metadata": {
        "id": "XRr-9LvHkIfA",
        "colab_type": "code",
        "colab": {}
      },
      "source": [
        "# Display a random Image from the validation dataset\n",
        "display_random_image(data=val_df)"
      ],
      "execution_count": null,
      "outputs": []
    },
    {
      "cell_type": "markdown",
      "metadata": {
        "id": "iHaI90RWG8Yu",
        "colab_type": "text"
      },
      "source": [
        "**Load (or Modify) the Config file:**"
      ]
    },
    {
      "cell_type": "code",
      "metadata": {
        "id": "5Mme3gRFHMPy",
        "colab_type": "code",
        "colab": {}
      },
      "source": [
        "# load the config file\n",
        "config = OmegaConf.load(\"/content/retinanet_pet_detector/main.yaml\")\n",
        "\n",
        "# -------------------------------------------- #\n",
        "# Modify some config parameters:\n",
        "# -------------------------------------------- #\n",
        "\n",
        "# since we will use the resnet50-backbone retinanet to train model\n",
        "config.model.backbone_kind = \"resnet50\" \n",
        "# update the paths to the train, validation and test csv files\n",
        "config.hparams.train_csv = \"/content/retinanet_pet_detector/data/train.csv\"\n",
        "config.hparams.valid_csv = \"/content/retinanet_pet_detector/data/valid.csv\"\n",
        "config.hparams.test_csv  = \"/content/retinanet_pet_detector/data/test.csv\"\n",
        "# update the batch size for the train dataset\n",
        "config.hparams.train_batch_size = 8\n",
        "# path to where checkpoint and final weights are to saved\n",
        "config.trainer.model_checkpoint.params.filepath = \"/content/drive/My Drive/res-50/\"\n",
        "# path to where the training logs are to saved for TensorBoard Logger\n",
        "config.trainer.logger.params.save_dir = \"/content/logs/\"\n",
        "# Let's modify the scheduler\n",
        "config.hparams.scheduler.class_name = \"torch.optim.lr_scheduler.CosineAnnealingWarmRestarts\"\n",
        "config.hparams.scheduler.params = {\"T_0\": 10, \"T_mult\": 2}\n",
        "config.hparams.scheduler.interval = \"step\"\n",
        "# modify optimier\n",
        "config.hparams.optimizer.params.lr = 0.002\n",
        "config.hparams.optimizer.params.weight_decay = 0.01\n",
        "# epochs to train for\n",
        "config.trainer.flags.max_epochs = 100\n",
        "\n",
        "# Save the modified config file\n",
        "OmegaConf.save(config=config, f=\"/content/retinanet_pet_detector/main.yaml\")"
      ],
      "execution_count": null,
      "outputs": []
    },
    {
      "cell_type": "code",
      "metadata": {
        "id": "dlv5XRMzIU0n",
        "colab_type": "code",
        "colab": {}
      },
      "source": [
        "# Load and view the modified config file\n",
        "config = OmegaConf.load(\"/content/retinanet_pet_detector/main.yaml\")\n",
        "# let's take a look at out config file\n",
        "print(OmegaConf.to_yaml(config))"
      ],
      "execution_count": null,
      "outputs": []
    },
    {
      "cell_type": "markdown",
      "metadata": {
        "id": "6DVhgFiRIbLM",
        "colab_type": "text"
      },
      "source": [
        "### **Train, Validation & Test :**"
      ]
    },
    {
      "cell_type": "markdown",
      "metadata": {
        "id": "XjZ-pijQImF8",
        "colab_type": "text"
      },
      "source": [
        "In colab use the main function to train otherwise Lightning progress bar goes mad, this issue is highlighted [here]( https://github.com/PyTorchLightning/pytorch-lightning/issues/721). \n",
        "\n",
        "The `main` function accepts `argparse` arguments so we will first define a `Dictionary` with the args and convert it to `argparse.Namespace` instance"
      ]
    },
    {
      "cell_type": "code",
      "metadata": {
        "id": "oOY5rNLNIhq4",
        "colab_type": "code",
        "colab": {}
      },
      "source": [
        "# Creat argument dictionary\n",
        "d = {\"config\": \"/content/retinanet_pet_detector/main.yaml\", \"verbose\": 0}\n",
        "args = argparse.Namespace(**d)\n",
        "\n",
        "logger.info(f\"Namespace Arguments:  {args}\")"
      ],
      "execution_count": null,
      "outputs": []
    },
    {
      "cell_type": "markdown",
      "metadata": {
        "id": "9a74fbFHP7KX",
        "colab_type": "text"
      },
      "source": [
        "**Start Train :**"
      ]
    },
    {
      "cell_type": "code",
      "metadata": {
        "id": "FoRYEGzNJC53",
        "colab_type": "code",
        "colab": {}
      },
      "source": [
        "# run the main function\n",
        "# set a seed number to ensure results are reproducible\n",
        "main(args, seed=123)"
      ],
      "execution_count": null,
      "outputs": []
    },
    {
      "cell_type": "markdown",
      "metadata": {
        "id": "EV0cQdB9k4eT",
        "colab_type": "text"
      },
      "source": [
        "**Tensorboard Logs:**"
      ]
    },
    {
      "cell_type": "code",
      "metadata": {
        "id": "_x4FAbXfk78c",
        "colab_type": "code",
        "colab": {}
      },
      "source": [
        "%tensorboard --logdir \"/content/logs/\""
      ],
      "execution_count": null,
      "outputs": []
    },
    {
      "cell_type": "markdown",
      "metadata": {
        "id": "gyuBTLBwJlRy",
        "colab_type": "text"
      },
      "source": [
        "## **Inference with saved weights:**"
      ]
    },
    {
      "cell_type": "markdown",
      "metadata": {
        "id": "kGT0olSXJqtp",
        "colab_type": "text"
      },
      "source": [
        "To do inference we need to modify or create a config file for inference. The config file for inference should contain the following:\n",
        "- `model_backbone` (`str`) : resnet backbone used for the retinanet model.\n",
        "- `url` (`str`) : url or the path to where weights are saved.\n",
        "- `num_classes` (`int`) : total number of unique classes.\n",
        "\n",
        "We will save this `config` file at : `/content/retinanet_pet_detector/config/resnet50.yaml`"
      ]
    },
    {
      "cell_type": "code",
      "metadata": {
        "id": "8eT3wOTJJvEw",
        "colab_type": "code",
        "colab": {}
      },
      "source": [
        "# Since we used a resnet-50 backbone for our retinanet model\n",
        "# we will load in the config for the resnet-34 model\n",
        "# and update the url to be the trainerd weights.\n",
        "backbone = \"resnet50\"\n",
        "# path to where model weights are saved\n",
        "url = \"/content/drive/My Drive/retianet-pets/weights.pth\"\n",
        "# total number of classes\n",
        "num_classes = 37\n",
        "\n",
        "d = {\"model_backbone\": backbone, \"url\": url, \"num_classes\": num_classes}\n",
        "conf = DictConfig(d)\n",
        "\n",
        "# Save the config File\n",
        "fname = \"/content/retinanet_pet_detector/config/resnet50.yaml\"\n",
        "OmegaConf.save(config=conf, f=fname)\n",
        "\n",
        "# Print out the config File\n",
        "print(OmegaConf.to_yaml(conf))"
      ],
      "execution_count": null,
      "outputs": []
    },
    {
      "cell_type": "code",
      "metadata": {
        "id": "hQZNJLJHOLIp",
        "colab_type": "code",
        "colab": {}
      },
      "source": [
        "# path to the ocnfig file\n",
        "config = \"/content/retinanet_pet_detector/config/resnet50.yaml\""
      ],
      "execution_count": null,
      "outputs": []
    },
    {
      "cell_type": "markdown",
      "metadata": {
        "id": "4ML-TXeYMCOE",
        "colab_type": "text"
      },
      "source": [
        "**Run Inference:**"
      ]
    },
    {
      "cell_type": "code",
      "metadata": {
        "id": "lLIfGdCFK7JF",
        "colab_type": "code",
        "colab": {}
      },
      "source": [
        "!python inference.py \\\n",
        "    --config {config} \\\n",
        "    --image {tst_df.filename[100]} \\\n",
        "    --score_thres 0.7 \\\n",
        "    --iou_thres 0.4 \\\n",
        "    --save_dir \"/content/\" \\\n",
        "    --fname \"res_1.png\" \\"
      ],
      "execution_count": null,
      "outputs": []
    },
    {
      "cell_type": "code",
      "metadata": {
        "id": "kZ85Kk3RL7aN",
        "colab_type": "code",
        "colab": {}
      },
      "source": [
        "Image.open(\"/content/res_1.png\")"
      ],
      "execution_count": null,
      "outputs": []
    },
    {
      "cell_type": "code",
      "metadata": {
        "id": "SKpoAfoaLiTI",
        "colab_type": "code",
        "colab": {}
      },
      "source": [
        "!python inference.py \\\n",
        "    --config {config} \\\n",
        "    --image {tst_df.filename[800]} \\\n",
        "    --score_thres 0.7 \\\n",
        "    --iou_thres 0.4 \\\n",
        "    --save_dir \"/content/\" \\\n",
        "    --fname \"res_2.png\" \\"
      ],
      "execution_count": null,
      "outputs": []
    },
    {
      "cell_type": "code",
      "metadata": {
        "id": "IexzvBKXLw83",
        "colab_type": "code",
        "colab": {}
      },
      "source": [
        "Image.open(\"/content/res_2.png\")"
      ],
      "execution_count": null,
      "outputs": []
    },
    {
      "cell_type": "markdown",
      "metadata": {
        "id": "Ja5dowK-L2q3",
        "colab_type": "text"
      },
      "source": [
        "**The following cells run inference on user uploaded image:**"
      ]
    },
    {
      "cell_type": "code",
      "metadata": {
        "id": "2P9KgjtuM484",
        "colab_type": "code",
        "colab": {}
      },
      "source": [
        "uploaded = files.upload()\n",
        "fname = list(uploaded.keys())[0]"
      ],
      "execution_count": null,
      "outputs": []
    },
    {
      "cell_type": "code",
      "metadata": {
        "id": "Vj0dt0UbM8Mb",
        "colab_type": "code",
        "colab": {}
      },
      "source": [
        "!python inference.py \\\n",
        "    --config {config}\\\n",
        "    --image {fname} \\\n",
        "    --score_thres 0.7 \\\n",
        "    --iou_thres 0.4 \\\n",
        "    --save_dir \"/content/\" \\\n",
        "    --fname \"res_3.png\" \\"
      ],
      "execution_count": null,
      "outputs": []
    },
    {
      "cell_type": "code",
      "metadata": {
        "id": "SZh_ChsCM_r-",
        "colab_type": "code",
        "colab": {}
      },
      "source": [
        "Image.open(\"/content/res_3.png\")"
      ],
      "execution_count": null,
      "outputs": []
    },
    {
      "cell_type": "code",
      "metadata": {
        "id": "gHqh-pW6N4Gz",
        "colab_type": "code",
        "colab": {}
      },
      "source": [
        ""
      ],
      "execution_count": null,
      "outputs": []
    }
  ]
}