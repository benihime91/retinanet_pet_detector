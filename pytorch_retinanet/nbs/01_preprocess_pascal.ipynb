{
  "nbformat": 4,
  "nbformat_minor": 0,
  "metadata": {
    "colab": {
      "name": "preprocess.ipynb",
      "provenance": [],
      "collapsed_sections": [],
      "include_colab_link": true
    },
    "kernelspec": {
      "name": "python3",
      "display_name": "Python 3"
    }
  },
  "cells": [
    {
      "cell_type": "markdown",
      "metadata": {
        "id": "view-in-github",
        "colab_type": "text"
      },
      "source": [
        "<a href=\"https://colab.research.google.com/github/benihime91/pytorch_retinanet/blob/master/nbs/01_preprocess_pascal.ipynb\" target=\"_parent\"><img src=\"https://colab.research.google.com/assets/colab-badge.svg\" alt=\"Open In Colab\"/></a>"
      ]
    },
    {
      "cell_type": "markdown",
      "metadata": {
        "id": "7IaLlvfY4067",
        "colab_type": "text"
      },
      "source": [
        "**setup:**"
      ]
    },
    {
      "cell_type": "code",
      "metadata": {
        "id": "koe9cD4_dXts",
        "colab_type": "code",
        "colab": {}
      },
      "source": [
        "# Grab the Data\n",
        "! unzip -qq /content/drive/My\\ Drive/Pascal\\ 2007\\ Data/pascal_voc_2007_test.zip\n",
        "! unzip -qq /content/drive/My\\ Drive/Pascal\\ 2007\\ Data/pascal_voc_2007_train_val.zip"
      ],
      "execution_count": null,
      "outputs": []
    },
    {
      "cell_type": "code",
      "metadata": {
        "id": "BfRHdonodmXB",
        "colab_type": "code",
        "colab": {}
      },
      "source": [
        "# Clone the RetinaNet Repo:\n",
        "! git clone https://github.com/benihime91/pytorch_retinanet.git"
      ],
      "execution_count": null,
      "outputs": []
    },
    {
      "cell_type": "markdown",
      "metadata": {
        "id": "NjEmognc44F6",
        "colab_type": "text"
      },
      "source": [
        "**standard imports:**"
      ]
    },
    {
      "cell_type": "code",
      "metadata": {
        "id": "INnMYLIReW9N",
        "colab_type": "code",
        "colab": {}
      },
      "source": [
        "from typing import *\n",
        "import pandas as pd\n",
        "import re\n",
        "import pickle\n",
        "from sklearn.preprocessing import LabelEncoder\n",
        "from sklearn.model_selection import train_test_split\n",
        "from pytorch_retinanet.src.utils.general_utils import Visualizer, xml_to_csv, ifnone\n",
        "import os\n",
        "import sys\n",
        "import warnings\n",
        "\n",
        "warnings.filterwarnings('ignore')\n",
        "pd.set_option(\"display.max_colwidth\", None)\n",
        "%load_ext autoreload\n",
        "%autoreload 2\n",
        "%matplotlib inline"
      ],
      "execution_count": null,
      "outputs": []
    },
    {
      "cell_type": "markdown",
      "metadata": {
        "id": "MIdrmi8648CD",
        "colab_type": "text"
      },
      "source": [
        "**specify file locations:**"
      ]
    },
    {
      "cell_type": "code",
      "metadata": {
        "id": "lsT1hbdseZVS",
        "colab_type": "code",
        "colab": {}
      },
      "source": [
        "trn_annot_dir = '/content/pascal_voc_2007_train_val/Annotations'  # location to the xml files for train dataset\n",
        "trn_img_dir = '/content/pascal_voc_2007_train_val/Images' # location to the images for the train dataset\n",
        "\n",
        "tst_annot_dir = '/content/pascal_voc_2007_test/Annotations' # location to the xml files for test dataset\n",
        "tst_img_dir = '/content/pascal_voc_2007_test/Images' # location to the images for the test dataset"
      ],
      "execution_count": null,
      "outputs": []
    },
    {
      "cell_type": "markdown",
      "metadata": {
        "id": "EyP4T7Qp5Qs3",
        "colab_type": "text"
      },
      "source": [
        "**create dataframes:**"
      ]
    },
    {
      "cell_type": "code",
      "metadata": {
        "id": "6PB_v01D5Tjd",
        "colab_type": "code",
        "colab": {}
      },
      "source": [
        "# Create pandas DataFrame from the xmls\n",
        "df_trn = xml_to_csv(trn_annot_dir) # train dataframe\n",
        "df_tst = xml_to_csv(tst_annot_dir) # test dataframe"
      ],
      "execution_count": null,
      "outputs": []
    },
    {
      "cell_type": "code",
      "metadata": {
        "id": "ICFsbeqz5VBR",
        "colab_type": "code",
        "colab": {}
      },
      "source": [
        "df_trn.head()"
      ],
      "execution_count": null,
      "outputs": []
    },
    {
      "cell_type": "code",
      "metadata": {
        "id": "5gzRq2Vr5V3d",
        "colab_type": "code",
        "colab": {}
      },
      "source": [
        "df_tst.head(5)"
      ],
      "execution_count": null,
      "outputs": []
    },
    {
      "cell_type": "markdown",
      "metadata": {
        "id": "lftJg6FO5Xxa",
        "colab_type": "text"
      },
      "source": [
        "**helper fuctions:**"
      ]
    },
    {
      "cell_type": "code",
      "metadata": {
        "id": "6PYqX-0Ig6gv",
        "colab_type": "code",
        "colab": {}
      },
      "source": [
        "def preprare_data(df:pd.DataFrame, img_dir:str, encoder:LabelEncoder=None):\n",
        "    \"preprocess the given data and returns a pandas dataframe & encoder\"\n",
        "    encoder = ifnone(encoder, LabelEncoder())\n",
        "    # modify filename to point to the image path\n",
        "    df[\"filename\"] = [os.path.join(img_dir, idx) for idx in df.filename.values]\n",
        "    # get labels from the filename\n",
        "    try:\n",
        "        df['labels'] = encoder.transform(df['class'].values)\n",
        "    except:\n",
        "        df['labels'] = encoder.fit_transform(df['class'].values)\n",
        "    return df, encoder\n",
        "    \n",
        "def create_label_dict(dataframe: pd.DataFrame, encoder: LabelEncoder) -> Dict[int, str]:\n",
        "    \"Creates a label dictionary from the given dataframe `labels`\"\n",
        "    names = list(dataframe.labels.unique())\n",
        "    names.sort()\n",
        "    # Create the label dictionary\n",
        "    label_dict = {\n",
        "        idx: clas for idx, clas in zip(names, list(encoder.inverse_transform(names)))\n",
        "    }\n",
        "    return label_dict"
      ],
      "execution_count": null,
      "outputs": []
    },
    {
      "cell_type": "markdown",
      "metadata": {
        "id": "z6BOUabf5eMP",
        "colab_type": "text"
      },
      "source": [
        "**Pre-process the dataframes:**"
      ]
    },
    {
      "cell_type": "code",
      "metadata": {
        "id": "Lat2xOdOiWb4",
        "colab_type": "code",
        "colab": {}
      },
      "source": [
        "df_trn, encoder = preprare_data(df_trn, img_dir=trn_img_dir)\n",
        "df_trn.head(10)"
      ],
      "execution_count": null,
      "outputs": []
    },
    {
      "cell_type": "code",
      "metadata": {
        "id": "2W3lBOCBie89",
        "colab_type": "code",
        "colab": {}
      },
      "source": [
        "df_tst, _ = preprare_data(df_tst, img_dir=tst_img_dir, encoder=encoder)\n",
        "df_tst.head(10)"
      ],
      "execution_count": null,
      "outputs": []
    },
    {
      "cell_type": "markdown",
      "metadata": {
        "id": "ythk3HAP5kpV",
        "colab_type": "text"
      },
      "source": [
        "**Instantiate the label dictionary and save it:**"
      ]
    },
    {
      "cell_type": "code",
      "metadata": {
        "id": "uROtFghXiy1S",
        "colab_type": "code",
        "colab": {}
      },
      "source": [
        "# Grab the label dictionary\n",
        "label_dict = create_label_dict(df_trn, encoder)\n",
        "label_dict"
      ],
      "execution_count": null,
      "outputs": []
    },
    {
      "cell_type": "code",
      "metadata": {
        "id": "NgK_FpWJjAhv",
        "colab_type": "code",
        "colab": {}
      },
      "source": [
        "# save the label_dict dictionary\n",
        "f = open(\"/content/drive/My Drive/Pascal 2007 Data/names.pkl\", \"wb\")\n",
        "pickle.dump(label_dict, f)\n",
        "f.close()"
      ],
      "execution_count": null,
      "outputs": []
    },
    {
      "cell_type": "code",
      "metadata": {
        "id": "FMRma_Ddjvrg",
        "colab_type": "code",
        "colab": {}
      },
      "source": [
        "# crosscheck\n",
        "label_dict = pickle.load(open(\"/content/drive/My Drive/Pascal 2007 Data/names.pkl\", \"rb\"))\n",
        "print(label_dict)"
      ],
      "execution_count": null,
      "outputs": []
    },
    {
      "cell_type": "markdown",
      "metadata": {
        "id": "ZViD11IH5rLL",
        "colab_type": "text"
      },
      "source": [
        "**visualize some images from the dataset for sanity check:**"
      ]
    },
    {
      "cell_type": "code",
      "metadata": {
        "id": "cCfOYC2Bj6y0",
        "colab_type": "code",
        "colab": {}
      },
      "source": [
        "# Instantiate the visualizer\n",
        "viz = Visualizer(class_names=label_dict)"
      ],
      "execution_count": null,
      "outputs": []
    },
    {
      "cell_type": "code",
      "metadata": {
        "id": "MZ1BFGDQj-Ti",
        "colab_type": "code",
        "colab": {}
      },
      "source": [
        "def display_random_image(df: pd.DataFrame) -> None:\n",
        "    \"displays a radom Image from given dataframe\"\n",
        "    n = np.random.randint(0, len(df))\n",
        "    fname = df[\"filename\"][n]\n",
        "    boxes = df.loc[df[\"filename\"] == fname][[\"xmin\", \"ymin\", \"xmax\", \"ymax\"]].values\n",
        "    labels = df.loc[df[\"filename\"] == fname][\"labels\"].values\n",
        "    viz.draw_bboxes(fname, boxes=boxes, classes=labels, figsize=(10, 10))"
      ],
      "execution_count": null,
      "outputs": []
    },
    {
      "cell_type": "code",
      "metadata": {
        "id": "L6G5VqKMkAPq",
        "colab_type": "code",
        "colab": {}
      },
      "source": [
        "# Display some random Images from the Dataset for sanity check\n",
        "display_random_image(df_trn)\n",
        "display_random_image(df_trn)\n",
        "display_random_image(df_tst)"
      ],
      "execution_count": null,
      "outputs": []
    },
    {
      "cell_type": "markdown",
      "metadata": {
        "id": "9VpK3MEy5zwF",
        "colab_type": "text"
      },
      "source": [
        "**create splits:**"
      ]
    },
    {
      "cell_type": "code",
      "metadata": {
        "id": "RQ1PIxPokD3y",
        "colab_type": "code",
        "colab": {}
      },
      "source": [
        "def create_splits(\n",
        "    df: pd.DataFrame, split_sz: float = 0.3\n",
        ") -> Tuple[pd.DataFrame, pd.DataFrame]:\n",
        "    \"Split given DataFrame into `split_sz`\"\n",
        "    # Grab the Unique Image Idxs from the Filename\n",
        "    unique_ids = list(df.filename.unique())\n",
        "    # Split the Unique Image Idxs into Train & valid Datasets\n",
        "    train_ids, val_ids = train_test_split(\n",
        "        unique_ids, shuffle=True, random_state=42, test_size=split_sz\n",
        "    )\n",
        "\n",
        "    # Create Splits on the DataFrame\n",
        "    df[\"split\"] = 0\n",
        "\n",
        "    for i, idx in enumerate(df.filename.values):\n",
        "        if idx in set(train_ids):\n",
        "            df[\"split\"][i] = \"train\"\n",
        "        elif idx in set(val_ids):\n",
        "            df[\"split\"][i] = \"val\"\n",
        "\n",
        "    # Split the DataFrame into Train and Valid DataFrames\n",
        "    df_trn, df_val = df.loc[df[\"split\"] == \"train\"], df.loc[df[\"split\"] == \"val\"]\n",
        "    df_trn, df_val = df_trn.reset_index(drop=True), df_val.reset_index(drop=True)\n",
        "\n",
        "    # drop the extra redundent column\n",
        "    df_trn.drop(columns=[\"split\"], inplace=True)\n",
        "    df_val.drop(columns=[\"split\"], inplace=True)\n",
        "\n",
        "    return df_trn, df_val"
      ],
      "execution_count": null,
      "outputs": []
    },
    {
      "cell_type": "code",
      "metadata": {
        "id": "k_4D9cZTkRQ5",
        "colab_type": "code",
        "colab": {}
      },
      "source": [
        "# Split the data into train & validation sets:\n",
        "df_trn, df_val = create_splits(df_trn)\n",
        "\n",
        "print('Num examples in train dataset', len(df_trn.filename.unique()))\n",
        "print('Num examples in train dataset', len(df_val.filename.unique()))\n",
        "print('Num examples in train dataset', len(df_tst.filename.unique()))"
      ],
      "execution_count": null,
      "outputs": []
    },
    {
      "cell_type": "code",
      "metadata": {
        "id": "Il85hHntklc9",
        "colab_type": "code",
        "colab": {}
      },
      "source": [
        "df_trn.head()"
      ],
      "execution_count": null,
      "outputs": []
    },
    {
      "cell_type": "code",
      "metadata": {
        "id": "odqTKqhZko8F",
        "colab_type": "code",
        "colab": {}
      },
      "source": [
        "df_val.head()"
      ],
      "execution_count": null,
      "outputs": []
    },
    {
      "cell_type": "code",
      "metadata": {
        "id": "YTLcLR2EkqbY",
        "colab_type": "code",
        "colab": {}
      },
      "source": [
        "df_tst.head()"
      ],
      "execution_count": null,
      "outputs": []
    },
    {
      "cell_type": "markdown",
      "metadata": {
        "id": "d0QTuX3B53lm",
        "colab_type": "text"
      },
      "source": [
        "**save the dataframes as csv files:**"
      ]
    },
    {
      "cell_type": "code",
      "metadata": {
        "id": "9G4GMkqrkYAa",
        "colab_type": "code",
        "colab": {}
      },
      "source": [
        "# Save the DatFrames:\n",
        "df_trn.to_csv('/content/drive/My Drive/Pascal 2007 Data/trn_data.csv', index=False)\n",
        "df_val.to_csv('/content/drive/My Drive/Pascal 2007 Data/val_data.csv', index=False)\n",
        "df_tst.to_csv('/content/drive/My Drive/Pascal 2007 Data/tst_data.csv', index=False)"
      ],
      "execution_count": null,
      "outputs": []
    },
    {
      "cell_type": "markdown",
      "metadata": {
        "id": "OqSEfubp57MZ",
        "colab_type": "text"
      },
      "source": [
        "**sanity check:**"
      ]
    },
    {
      "cell_type": "code",
      "metadata": {
        "id": "l-0-V58bk0oX",
        "colab_type": "code",
        "colab": {}
      },
      "source": [
        "display_random_image(df_trn)\n",
        "display_random_image(df_trn)"
      ],
      "execution_count": null,
      "outputs": []
    },
    {
      "cell_type": "code",
      "metadata": {
        "id": "GXhiUrPFk8WH",
        "colab_type": "code",
        "colab": {}
      },
      "source": [
        "display_random_image(df_val)\n",
        "display_random_image(df_val)"
      ],
      "execution_count": null,
      "outputs": []
    },
    {
      "cell_type": "code",
      "metadata": {
        "id": "3hq_jNzpk_kg",
        "colab_type": "code",
        "colab": {}
      },
      "source": [
        "display_random_image(df_tst)\n",
        "display_random_image(df_tst)"
      ],
      "execution_count": null,
      "outputs": []
    },
    {
      "cell_type": "code",
      "metadata": {
        "id": "MW5yIhYslC0b",
        "colab_type": "code",
        "colab": {}
      },
      "source": [
        ""
      ],
      "execution_count": null,
      "outputs": []
    }
  ]
}